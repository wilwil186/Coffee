{
 "cells": [
  {
   "cell_type": "markdown",
   "id": "d48b9ef2",
   "metadata": {},
   "source": [
    "# Exploratory Data Analysis – Coffee Database\n",
    "\n",
    "En este notebook exploraremos el dataset `coffee_db.parquet` para entender:\n",
    "\n",
    "1. Tendencia global del consumo de café (1990–2019).  \n",
    "2. Evolución de los 10 países principales.  \n",
    "3. Distribución por tipo de café.  \n",
    "4. Países con mayor tasa de crecimiento (CAGR).  "
   ]
  },
  {
   "cell_type": "code",
   "execution_count": 113,
   "id": "e471863b",
   "metadata": {},
   "outputs": [],
   "source": [
    "import pandas as pd\n",
    "import numpy as nps\n",
    "import matplotlib.pyplot as pltss\n",
    "import seaborn as sns\n",
    "from matplotlib import patheffects as pe  # para borde negro en textos\n",
    "\n",
    "# Estilo global\n",
    "sns.set_theme(style=\"whitegrid\", context=\"talk\")\n",
    "plt.rcParams.update({\n",
    "    \"figure.figsize\": (22, 9),\n",
    "    \"figure.dpi\": 140,          # más nitidez\n",
    "    \"axes.titlesize\": 20,\n",
    "    \"axes.labelsize\": 14,\n",
    "    \"axes.grid\": True,\n",
    "    \"grid.alpha\": 0.25\n",
    "})\n",
    "\n",
    "def fmt_millions(n: float) -> str:\n",
    "    \"\"\"Formato latino: M (10^6), MM (10^9), B (10^12).\"\"\"\n",
    "    if pd.isna(n): \n",
    "        return \"\"\n",
    "    if abs(n) >= 1e12:\n",
    "        return f\"{n/1e12:.1f}B\"\n",
    "    elif abs(n) >= 1e9:\n",
    "        return f\"{n/1e9:.1f}mM\"\n",
    "    else:\n",
    "        return f\"{n/1e6:.0f}M\"\n",
    "\n",
    "def text_label(ax, x, y, s, fontsize=10, offset=0.0):\n",
    "    \"\"\"Etiqueta legible con fondo blanco y borde negro fino.\"\"\"\n",
    "    txt = ax.text(\n",
    "        x, y + offset, s,\n",
    "        ha=\"center\", va=\"bottom\", fontsize=fontsize, color=\"black\",\n",
    "        bbox=dict(boxstyle=\"round,pad=0.2\", fc=\"white\", ec=\"none\", alpha=0.9)\n",
    "    )\n",
    "    # Borde negro sutil\n",
    "    txt.set_path_effects([pe.Stroke(linewidth=1.5, foreground=\"black\"), pe.Normal()])\n",
    "    return txt\n",
    "\n"
   ]
  },
  {
   "cell_type": "markdown",
   "id": "45693092",
   "metadata": {},
   "source": [
    "## 1. Carga y transformación de datos\n",
    "\n",
    "Leemos **`coffee_db.parquet`** y lo pasamos de formato ancho (`1990/91, 1991/92,...`) a largo."
   ]
  },
  {
   "cell_type": "code",
   "execution_count": 114,
   "id": "3b7e59fe",
   "metadata": {},
   "outputs": [
    {
     "data": {
      "application/vnd.microsoft.datawrangler.viewer.v0+json": {
       "columns": [
        {
         "name": "index",
         "rawType": "int64",
         "type": "integer"
        },
        {
         "name": "Pais",
         "rawType": "object",
         "type": "string"
        },
        {
         "name": "Tipo_Cafe",
         "rawType": "object",
         "type": "string"
        },
        {
         "name": "Consumo_Total_Original",
         "rawType": "int64",
         "type": "integer"
        },
        {
         "name": "Year",
         "rawType": "int64",
         "type": "integer"
        },
        {
         "name": "Consumption",
         "rawType": "int64",
         "type": "integer"
        }
       ],
       "ref": "622fe8c5-ef36-4253-8ec2-0e05f50cdd1f",
       "rows": [
        [
         "0",
         "Angola",
         "Robusta/Arabica",
         "46500000",
         "1990",
         "1200000"
        ],
        [
         "1",
         "Angola",
         "Robusta/Arabica",
         "46500000",
         "1991",
         "1800000"
        ],
        [
         "2",
         "Angola",
         "Robusta/Arabica",
         "46500000",
         "1992",
         "2100000"
        ],
        [
         "3",
         "Angola",
         "Robusta/Arabica",
         "46500000",
         "1993",
         "1200000"
        ],
        [
         "4",
         "Angola",
         "Robusta/Arabica",
         "46500000",
         "1994",
         "1500000"
        ]
       ],
       "shape": {
        "columns": 5,
        "rows": 5
       }
      },
      "text/html": [
       "<div>\n",
       "<style scoped>\n",
       "    .dataframe tbody tr th:only-of-type {\n",
       "        vertical-align: middle;\n",
       "    }\n",
       "\n",
       "    .dataframe tbody tr th {\n",
       "        vertical-align: top;\n",
       "    }\n",
       "\n",
       "    .dataframe thead th {\n",
       "        text-align: right;\n",
       "    }\n",
       "</style>\n",
       "<table border=\"1\" class=\"dataframe\">\n",
       "  <thead>\n",
       "    <tr style=\"text-align: right;\">\n",
       "      <th></th>\n",
       "      <th>Pais</th>\n",
       "      <th>Tipo_Cafe</th>\n",
       "      <th>Consumo_Total_Original</th>\n",
       "      <th>Year</th>\n",
       "      <th>Consumption</th>\n",
       "    </tr>\n",
       "  </thead>\n",
       "  <tbody>\n",
       "    <tr>\n",
       "      <th>0</th>\n",
       "      <td>Angola</td>\n",
       "      <td>Robusta/Arabica</td>\n",
       "      <td>46500000</td>\n",
       "      <td>1990</td>\n",
       "      <td>1200000</td>\n",
       "    </tr>\n",
       "    <tr>\n",
       "      <th>1</th>\n",
       "      <td>Angola</td>\n",
       "      <td>Robusta/Arabica</td>\n",
       "      <td>46500000</td>\n",
       "      <td>1991</td>\n",
       "      <td>1800000</td>\n",
       "    </tr>\n",
       "    <tr>\n",
       "      <th>2</th>\n",
       "      <td>Angola</td>\n",
       "      <td>Robusta/Arabica</td>\n",
       "      <td>46500000</td>\n",
       "      <td>1992</td>\n",
       "      <td>2100000</td>\n",
       "    </tr>\n",
       "    <tr>\n",
       "      <th>3</th>\n",
       "      <td>Angola</td>\n",
       "      <td>Robusta/Arabica</td>\n",
       "      <td>46500000</td>\n",
       "      <td>1993</td>\n",
       "      <td>1200000</td>\n",
       "    </tr>\n",
       "    <tr>\n",
       "      <th>4</th>\n",
       "      <td>Angola</td>\n",
       "      <td>Robusta/Arabica</td>\n",
       "      <td>46500000</td>\n",
       "      <td>1994</td>\n",
       "      <td>1500000</td>\n",
       "    </tr>\n",
       "  </tbody>\n",
       "</table>\n",
       "</div>"
      ],
      "text/plain": [
       "     Pais        Tipo_Cafe  Consumo_Total_Original  Year  Consumption\n",
       "0  Angola  Robusta/Arabica                46500000  1990      1200000\n",
       "1  Angola  Robusta/Arabica                46500000  1991      1800000\n",
       "2  Angola  Robusta/Arabica                46500000  1992      2100000\n",
       "3  Angola  Robusta/Arabica                46500000  1993      1200000\n",
       "4  Angola  Robusta/Arabica                46500000  1994      1500000"
      ]
     },
     "execution_count": 114,
     "metadata": {},
     "output_type": "execute_result"
    }
   ],
   "source": [
    "# Leer directamente coffee_db.parquet\n",
    "df = pd.read_parquet(\"coffee_db.parquet\")\n",
    "\n",
    "# Transformar a formato largo\n",
    "fixed = [\"Country\", \"Coffee type\", \"Total_domestic_consumption\"]\n",
    "year_cols = [c for c in df.columns if \"/\" in c]\n",
    "\n",
    "df_long = df.melt(id_vars=fixed, value_vars=year_cols,\n",
    "                  var_name=\"Year\", value_name=\"Consumption\")\n",
    "df_long[\"Year\"] = df_long[\"Year\"].str.split(\"/\").str[0].astype(int)\n",
    "df_long.rename(columns={\n",
    "    \"Country\":\"Pais\", \"Coffee type\":\"Tipo_Cafe\",\n",
    "    \"Total_domestic_consumption\":\"Consumo_Total_Original\"\n",
    "}, inplace=True)\n",
    "df_long = df_long.sort_values([\"Pais\",\"Tipo_Cafe\",\"Year\"]).reset_index(drop=True)\n",
    "\n",
    "df_long.head()\n"
   ]
  },
  {
   "cell_type": "code",
   "execution_count": 116,
   "id": "5a89f507",
   "metadata": {},
   "outputs": [
    {
     "data": {
      "application/vnd.microsoft.datawrangler.viewer.v0+json": {
       "columns": [
        {
         "name": "index",
         "rawType": "int64",
         "type": "integer"
        },
        {
         "name": "Country",
         "rawType": "object",
         "type": "string"
        },
        {
         "name": "Coffee type",
         "rawType": "object",
         "type": "string"
        },
        {
         "name": "1990/91",
         "rawType": "int64",
         "type": "integer"
        },
        {
         "name": "1991/92",
         "rawType": "int64",
         "type": "integer"
        },
        {
         "name": "1992/93",
         "rawType": "int64",
         "type": "integer"
        },
        {
         "name": "1993/94",
         "rawType": "int64",
         "type": "integer"
        },
        {
         "name": "1994/95",
         "rawType": "int64",
         "type": "integer"
        },
        {
         "name": "1995/96",
         "rawType": "int64",
         "type": "integer"
        },
        {
         "name": "1996/97",
         "rawType": "int64",
         "type": "integer"
        },
        {
         "name": "1997/98",
         "rawType": "int64",
         "type": "integer"
        },
        {
         "name": "1998/99",
         "rawType": "int64",
         "type": "integer"
        },
        {
         "name": "1999/00",
         "rawType": "int64",
         "type": "integer"
        },
        {
         "name": "2000/01",
         "rawType": "int64",
         "type": "integer"
        },
        {
         "name": "2001/02",
         "rawType": "int64",
         "type": "integer"
        },
        {
         "name": "2002/03",
         "rawType": "int64",
         "type": "integer"
        },
        {
         "name": "2003/04",
         "rawType": "int64",
         "type": "integer"
        },
        {
         "name": "2004/05",
         "rawType": "int64",
         "type": "integer"
        },
        {
         "name": "2005/06",
         "rawType": "int64",
         "type": "integer"
        },
        {
         "name": "2006/07",
         "rawType": "int64",
         "type": "integer"
        },
        {
         "name": "2007/08",
         "rawType": "int64",
         "type": "integer"
        },
        {
         "name": "2008/09",
         "rawType": "int64",
         "type": "integer"
        },
        {
         "name": "2009/10",
         "rawType": "int64",
         "type": "integer"
        },
        {
         "name": "2010/11",
         "rawType": "int64",
         "type": "integer"
        },
        {
         "name": "2011/12",
         "rawType": "int64",
         "type": "integer"
        },
        {
         "name": "2012/13",
         "rawType": "int64",
         "type": "integer"
        },
        {
         "name": "2013/14",
         "rawType": "int64",
         "type": "integer"
        },
        {
         "name": "2014/15",
         "rawType": "int64",
         "type": "integer"
        },
        {
         "name": "2015/16",
         "rawType": "int64",
         "type": "integer"
        },
        {
         "name": "2016/17",
         "rawType": "int64",
         "type": "integer"
        },
        {
         "name": "2017/18",
         "rawType": "int64",
         "type": "integer"
        },
        {
         "name": "2018/19",
         "rawType": "int64",
         "type": "integer"
        },
        {
         "name": "2019/20",
         "rawType": "int64",
         "type": "integer"
        },
        {
         "name": "Total_domestic_consumption",
         "rawType": "int64",
         "type": "integer"
        }
       ],
       "ref": "574b58d8-49f1-4002-b5ed-0045a98361dd",
       "rows": [
        [
         "0",
         "Angola",
         "Robusta/Arabica",
         "1200000",
         "1800000",
         "2100000",
         "1200000",
         "1500000",
         "600000",
         "1200000",
         "2400000",
         "1800000",
         "1200000",
         "1200000",
         "1200000",
         "1200000",
         "900000",
         "900000",
         "900000",
         "1800000",
         "1800000",
         "1800000",
         "1800000",
         "1800000",
         "1800000",
         "1800000",
         "1800000",
         "1800000",
         "1800000",
         "1800000",
         "1800000",
         "1800000",
         "1800000",
         "46500000"
        ],
        [
         "1",
         "Bolivia (Plurinational State of)",
         "Arabica",
         "1500000",
         "1620000",
         "1650000",
         "1710000",
         "1770000",
         "1830000",
         "1890000",
         "1950000",
         "1980000",
         "2040000",
         "2100000",
         "2190000",
         "2250000",
         "2310000",
         "2700000",
         "2460000",
         "2520000",
         "2610000",
         "2700000",
         "2760000",
         "2850000",
         "2940000",
         "3030000",
         "3120000",
         "3210000",
         "3300000",
         "3420000",
         "3510000",
         "3600000",
         "3660000",
         "75180000"
        ],
        [
         "2",
         "Brazil",
         "Arabica/Robusta",
         "492000000",
         "510000000",
         "534000000",
         "546000000",
         "558000000",
         "606000000",
         "660000000",
         "690000000",
         "732000000",
         "762000000",
         "792000000",
         "815400000",
         "825000000",
         "852000000",
         "896760000",
         "932280000",
         "979860000",
         "1026600000",
         "1059600000",
         "1103400000",
         "1147920000",
         "1183200000",
         "1219800000",
         "1205100000",
         "1219980000",
         "1230480000",
         "1273500000",
         "1319820000",
         "1332000000",
         "1320000000",
         "27824700000"
        ],
        [
         "3",
         "Burundi",
         "Arabica/Robusta",
         "120000",
         "96000",
         "102000",
         "114600",
         "120000",
         "120000",
         "120000",
         "120000",
         "120000",
         "120000",
         "120000",
         "120000",
         "120000",
         "120000",
         "120000",
         "114360",
         "93600",
         "81420",
         "86100",
         "83940",
         "120000",
         "120000",
         "120000",
         "120000",
         "120000",
         "120000",
         "120000",
         "120000",
         "120000",
         "120000",
         "3412020"
        ],
        [
         "4",
         "Ecuador",
         "Arabica/Robusta",
         "21000000",
         "21000000",
         "21000000",
         "21000000",
         "21000000",
         "21000000",
         "18000000",
         "18000000",
         "18000000",
         "13800000",
         "12000000",
         "12000000",
         "9000000",
         "9000000",
         "9000000",
         "9000000",
         "9000000",
         "9000000",
         "9000000",
         "9000000",
         "9000000",
         "9000000",
         "9000000",
         "9300000",
         "9300000",
         "9300000",
         "9300000",
         "9300000",
         "9300000",
         "8940000",
         "381540000"
        ]
       ],
       "shape": {
        "columns": 33,
        "rows": 5
       }
      },
      "text/html": [
       "<div>\n",
       "<style scoped>\n",
       "    .dataframe tbody tr th:only-of-type {\n",
       "        vertical-align: middle;\n",
       "    }\n",
       "\n",
       "    .dataframe tbody tr th {\n",
       "        vertical-align: top;\n",
       "    }\n",
       "\n",
       "    .dataframe thead th {\n",
       "        text-align: right;\n",
       "    }\n",
       "</style>\n",
       "<table border=\"1\" class=\"dataframe\">\n",
       "  <thead>\n",
       "    <tr style=\"text-align: right;\">\n",
       "      <th></th>\n",
       "      <th>Country</th>\n",
       "      <th>Coffee type</th>\n",
       "      <th>1990/91</th>\n",
       "      <th>1991/92</th>\n",
       "      <th>1992/93</th>\n",
       "      <th>1993/94</th>\n",
       "      <th>1994/95</th>\n",
       "      <th>1995/96</th>\n",
       "      <th>1996/97</th>\n",
       "      <th>1997/98</th>\n",
       "      <th>...</th>\n",
       "      <th>2011/12</th>\n",
       "      <th>2012/13</th>\n",
       "      <th>2013/14</th>\n",
       "      <th>2014/15</th>\n",
       "      <th>2015/16</th>\n",
       "      <th>2016/17</th>\n",
       "      <th>2017/18</th>\n",
       "      <th>2018/19</th>\n",
       "      <th>2019/20</th>\n",
       "      <th>Total_domestic_consumption</th>\n",
       "    </tr>\n",
       "  </thead>\n",
       "  <tbody>\n",
       "    <tr>\n",
       "      <th>0</th>\n",
       "      <td>Angola</td>\n",
       "      <td>Robusta/Arabica</td>\n",
       "      <td>1200000</td>\n",
       "      <td>1800000</td>\n",
       "      <td>2100000</td>\n",
       "      <td>1200000</td>\n",
       "      <td>1500000</td>\n",
       "      <td>600000</td>\n",
       "      <td>1200000</td>\n",
       "      <td>2400000</td>\n",
       "      <td>...</td>\n",
       "      <td>1800000</td>\n",
       "      <td>1800000</td>\n",
       "      <td>1800000</td>\n",
       "      <td>1800000</td>\n",
       "      <td>1800000</td>\n",
       "      <td>1800000</td>\n",
       "      <td>1800000</td>\n",
       "      <td>1800000</td>\n",
       "      <td>1800000</td>\n",
       "      <td>46500000</td>\n",
       "    </tr>\n",
       "    <tr>\n",
       "      <th>1</th>\n",
       "      <td>Bolivia (Plurinational State of)</td>\n",
       "      <td>Arabica</td>\n",
       "      <td>1500000</td>\n",
       "      <td>1620000</td>\n",
       "      <td>1650000</td>\n",
       "      <td>1710000</td>\n",
       "      <td>1770000</td>\n",
       "      <td>1830000</td>\n",
       "      <td>1890000</td>\n",
       "      <td>1950000</td>\n",
       "      <td>...</td>\n",
       "      <td>2940000</td>\n",
       "      <td>3030000</td>\n",
       "      <td>3120000</td>\n",
       "      <td>3210000</td>\n",
       "      <td>3300000</td>\n",
       "      <td>3420000</td>\n",
       "      <td>3510000</td>\n",
       "      <td>3600000</td>\n",
       "      <td>3660000</td>\n",
       "      <td>75180000</td>\n",
       "    </tr>\n",
       "    <tr>\n",
       "      <th>2</th>\n",
       "      <td>Brazil</td>\n",
       "      <td>Arabica/Robusta</td>\n",
       "      <td>492000000</td>\n",
       "      <td>510000000</td>\n",
       "      <td>534000000</td>\n",
       "      <td>546000000</td>\n",
       "      <td>558000000</td>\n",
       "      <td>606000000</td>\n",
       "      <td>660000000</td>\n",
       "      <td>690000000</td>\n",
       "      <td>...</td>\n",
       "      <td>1183200000</td>\n",
       "      <td>1219800000</td>\n",
       "      <td>1205100000</td>\n",
       "      <td>1219980000</td>\n",
       "      <td>1230480000</td>\n",
       "      <td>1273500000</td>\n",
       "      <td>1319820000</td>\n",
       "      <td>1332000000</td>\n",
       "      <td>1320000000</td>\n",
       "      <td>27824700000</td>\n",
       "    </tr>\n",
       "    <tr>\n",
       "      <th>3</th>\n",
       "      <td>Burundi</td>\n",
       "      <td>Arabica/Robusta</td>\n",
       "      <td>120000</td>\n",
       "      <td>96000</td>\n",
       "      <td>102000</td>\n",
       "      <td>114600</td>\n",
       "      <td>120000</td>\n",
       "      <td>120000</td>\n",
       "      <td>120000</td>\n",
       "      <td>120000</td>\n",
       "      <td>...</td>\n",
       "      <td>120000</td>\n",
       "      <td>120000</td>\n",
       "      <td>120000</td>\n",
       "      <td>120000</td>\n",
       "      <td>120000</td>\n",
       "      <td>120000</td>\n",
       "      <td>120000</td>\n",
       "      <td>120000</td>\n",
       "      <td>120000</td>\n",
       "      <td>3412020</td>\n",
       "    </tr>\n",
       "    <tr>\n",
       "      <th>4</th>\n",
       "      <td>Ecuador</td>\n",
       "      <td>Arabica/Robusta</td>\n",
       "      <td>21000000</td>\n",
       "      <td>21000000</td>\n",
       "      <td>21000000</td>\n",
       "      <td>21000000</td>\n",
       "      <td>21000000</td>\n",
       "      <td>21000000</td>\n",
       "      <td>18000000</td>\n",
       "      <td>18000000</td>\n",
       "      <td>...</td>\n",
       "      <td>9000000</td>\n",
       "      <td>9000000</td>\n",
       "      <td>9300000</td>\n",
       "      <td>9300000</td>\n",
       "      <td>9300000</td>\n",
       "      <td>9300000</td>\n",
       "      <td>9300000</td>\n",
       "      <td>9300000</td>\n",
       "      <td>8940000</td>\n",
       "      <td>381540000</td>\n",
       "    </tr>\n",
       "  </tbody>\n",
       "</table>\n",
       "<p>5 rows × 33 columns</p>\n",
       "</div>"
      ],
      "text/plain": [
       "                            Country      Coffee type    1990/91    1991/92  \\\n",
       "0                            Angola  Robusta/Arabica    1200000    1800000   \n",
       "1  Bolivia (Plurinational State of)          Arabica    1500000    1620000   \n",
       "2                            Brazil  Arabica/Robusta  492000000  510000000   \n",
       "3                           Burundi  Arabica/Robusta     120000      96000   \n",
       "4                           Ecuador  Arabica/Robusta   21000000   21000000   \n",
       "\n",
       "     1992/93    1993/94    1994/95    1995/96    1996/97    1997/98  ...  \\\n",
       "0    2100000    1200000    1500000     600000    1200000    2400000  ...   \n",
       "1    1650000    1710000    1770000    1830000    1890000    1950000  ...   \n",
       "2  534000000  546000000  558000000  606000000  660000000  690000000  ...   \n",
       "3     102000     114600     120000     120000     120000     120000  ...   \n",
       "4   21000000   21000000   21000000   21000000   18000000   18000000  ...   \n",
       "\n",
       "      2011/12     2012/13     2013/14     2014/15     2015/16     2016/17  \\\n",
       "0     1800000     1800000     1800000     1800000     1800000     1800000   \n",
       "1     2940000     3030000     3120000     3210000     3300000     3420000   \n",
       "2  1183200000  1219800000  1205100000  1219980000  1230480000  1273500000   \n",
       "3      120000      120000      120000      120000      120000      120000   \n",
       "4     9000000     9000000     9300000     9300000     9300000     9300000   \n",
       "\n",
       "      2017/18     2018/19     2019/20  Total_domestic_consumption  \n",
       "0     1800000     1800000     1800000                    46500000  \n",
       "1     3510000     3600000     3660000                    75180000  \n",
       "2  1319820000  1332000000  1320000000                 27824700000  \n",
       "3      120000      120000      120000                     3412020  \n",
       "4     9300000     9300000     8940000                   381540000  \n",
       "\n",
       "[5 rows x 33 columns]"
      ]
     },
     "execution_count": 116,
     "metadata": {},
     "output_type": "execute_result"
    }
   ],
   "source": [
    "df.head()"
   ]
  },
  {
   "cell_type": "code",
   "execution_count": 115,
   "id": "a9873558",
   "metadata": {},
   "outputs": [
    {
     "data": {
      "text/plain": [
       "Index(['Country', 'Coffee type', '1990/91', '1991/92', '1992/93', '1993/94',\n",
       "       '1994/95', '1995/96', '1996/97', '1997/98', '1998/99', '1999/00',\n",
       "       '2000/01', '2001/02', '2002/03', '2003/04', '2004/05', '2005/06',\n",
       "       '2006/07', '2007/08', '2008/09', '2009/10', '2010/11', '2011/12',\n",
       "       '2012/13', '2013/14', '2014/15', '2015/16', '2016/17', '2017/18',\n",
       "       '2018/19', '2019/20', 'Total_domestic_consumption'],\n",
       "      dtype='object')"
      ]
     },
     "execution_count": 115,
     "metadata": {},
     "output_type": "execute_result"
    }
   ],
   "source": [
    "df.columns"
   ]
  },
  {
   "cell_type": "code",
   "execution_count": null,
   "id": "786d9c7f",
   "metadata": {},
   "outputs": [],
   "source": [
    "df['Country'].unique()"
   ]
  },
  {
   "cell_type": "code",
   "execution_count": null,
   "id": "f2591550",
   "metadata": {},
   "outputs": [],
   "source": [
    "df['Coffee type'].unique()"
   ]
  },
  {
   "cell_type": "markdown",
   "id": "e3b92866",
   "metadata": {},
   "source": [
    "## 2. Funciones auxiliares para gráficos\n",
    "\n",
    "Para mantener el código limpio, definimos helpers que agregan etiquetas automáticamente.\n"
   ]
  },
  {
   "cell_type": "code",
   "execution_count": null,
   "id": "ee85e055",
   "metadata": {},
   "outputs": [],
   "source": [
    "def label_line_last(ax, x_last, y_last, text:str):\n",
    "    ax.text(x_last, y_last, f\"  {text}\", va=\"center\", ha=\"left\",\n",
    "            fontsize=10, weight=\"bold\")\n",
    "\n",
    "def label_line_every_k(ax, x_vals, y_vals, k:int=5, fontsize:int=9):\n",
    "    for i, (xv, yv) in enumerate(zip(x_vals, y_vals)):\n",
    "        if i % k == 0:\n",
    "            ax.text(xv, yv, fmt_millions(yv), ha=\"center\", va=\"bottom\", fontsize=fontsize)\n",
    "\n",
    "def label_bars(ax, fontsize:int=10, offset:int=5):\n",
    "    for p in ax.patches:\n",
    "        y = p.get_height()\n",
    "        if pd.isna(y): continue\n",
    "        x = p.get_x() + p.get_width()/2\n",
    "        ax.annotate(fmt_millions(y), (x, y), ha=\"center\", va=\"bottom\",\n",
    "                    xytext=(0, offset), textcoords=\"offset points\",\n",
    "                    fontsize=fontsize, weight=\"bold\")\n"
   ]
  },
  {
   "cell_type": "markdown",
   "id": "d8a57264",
   "metadata": {},
   "source": [
    "## 3. Tendencia global del consumo de café\n"
   ]
  },
  {
   "cell_type": "code",
   "execution_count": null,
   "id": "31239c8c",
   "metadata": {},
   "outputs": [],
   "source": [
    "# === Celda 3: Tendencia global del consumo de café (con etiquetas en cada punto) ===\n",
    "global_ts = df_long.groupby(\"Year\", as_index=False)[\"Consumption\"].sum()\n",
    "\n",
    "fig, ax = plt.subplots()\n",
    "ax.plot(global_ts[\"Year\"], global_ts[\"Consumption\"], marker=\"o\", linewidth=2.5, color=\"steelblue\")\n",
    "\n",
    "ax.set_title(\"Consumo mundial de café (1990–2019)\")\n",
    "ax.set_xlabel(\"Año\")\n",
    "ax.set_ylabel(\"Consumo (tazas)\")\n",
    "\n",
    "# Etiquetar cada punto\n",
    "for i, row in global_ts.iterrows():\n",
    "    ax.text(row[\"Year\"], row[\"Consumption\"], fmt_millions(row[\"Consumption\"]),\n",
    "            ha=\"center\", va=\"bottom\", fontsize=9, weight=\"bold\")\n",
    "\n",
    "# Mostrar todos los años en el eje X\n",
    "ax.set_xticks(global_ts[\"Year\"])\n",
    "ax.tick_params(axis=\"x\", rotation=75)\n",
    "\n",
    "plt.tight_layout()\n",
    "plt.show()\n"
   ]
  },
  {
   "cell_type": "markdown",
   "id": "54319b1e",
   "metadata": {},
   "source": [
    "## 4. Evolución del consumo en los 10 países principales\n"
   ]
  },
  {
   "cell_type": "code",
   "execution_count": null,
   "id": "cf89f973",
   "metadata": {},
   "outputs": [],
   "source": [
    "# === BRASIL: etiquetas en TODOS los puntos, limpio ===\n",
    "br = (df_long[df_long[\"Pais\"] == \"Brazil\"]\n",
    "      .groupby(\"Year\", as_index=False)[\"Consumption\"].sum())\n",
    "\n",
    "fig, ax = plt.subplots(figsize=(26, 8), dpi=160)\n",
    "ax.plot(br[\"Year\"], br[\"Consumption\"], marker=\"o\", linewidth=3, color=\"#1f77b4\", zorder=2)\n",
    "\n",
    "ax.set_title(\"Consumo de café – Brazil (1990–2019)\")\n",
    "ax.set_xlabel(\"Año\"); ax.set_ylabel(\"Consumo (tazas)\")\n",
    "ax.set_xticks(br[\"Year\"]); ax.tick_params(axis=\"x\", rotation=60)\n",
    "\n",
    "# Etiquetas en cada punto con fondo blanco y borde (muy legible)\n",
    "ymin, ymax = ax.get_ylim(); yrange = ymax - ymin\n",
    "for i, (xv, yv) in enumerate(zip(br[\"Year\"], br[\"Consumption\"])):\n",
    "    off = (0.015 if (i % 2 == 0) else -0.010) * yrange\n",
    "    text_label(ax, xv, yv, fmt_millions(yv), fontsize=11, offset=off)\n",
    "\n",
    "ax.margins(x=0.01, y=0.15)\n",
    "plt.tight_layout()\n",
    "plt.show()\n"
   ]
  },
  {
   "cell_type": "code",
   "execution_count": null,
   "id": "e0b78a29",
   "metadata": {},
   "outputs": [],
   "source": [
    "# === RESTO DE PAÍSES (Top 9 sin Brazil, SIN etiquetas de datos) ===\n",
    "otros = df_long[df_long[\"Pais\"] != \"Brazil\"].copy()\n",
    "top9 = (otros.groupby(\"Pais\")[\"Consumption\"]\n",
    "        .sum().sort_values(ascending=False).head(9).index)\n",
    "df_otros = otros[otros[\"Pais\"].isin(top9)]\n",
    "\n",
    "fig, ax = plt.subplots(figsize=(26, 12), dpi=150)\n",
    "\n",
    "palette = sns.color_palette(\"tab10\", n_colors=len(top9))\n",
    "for (pais, sub), color in zip(df_otros.groupby(\"Pais\"), palette):\n",
    "    sub = sub.sort_values(\"Year\").reset_index(drop=True)\n",
    "    ax.plot(sub[\"Year\"], sub[\"Consumption\"], marker=\"o\", linewidth=2.2,\n",
    "            color=color, alpha=0.95, label=pais)\n",
    "\n",
    "ax.set_title(\"Consumo de café – Resto de países (Top 9 sin Brazil)\")\n",
    "ax.set_xlabel(\"Año\"); ax.set_ylabel(\"Consumo (tazas)\")\n",
    "\n",
    "# Todos los años en eje X\n",
    "years_sorted = sorted(df_otros[\"Year\"].unique())\n",
    "ax.set_xticks(years_sorted)\n",
    "ax.tick_params(axis=\"x\", rotation=60, labelsize=10)\n",
    "\n",
    "# Leyenda externa clara\n",
    "ax.legend(title=\"País\", bbox_to_anchor=(1.02, 1), loc=\"upper left\", frameon=False)\n",
    "\n",
    "ax.margins(x=0.01, y=0.05)\n",
    "plt.tight_layout()\n",
    "plt.show()\n",
    "\n"
   ]
  },
  {
   "cell_type": "markdown",
   "id": "e68e9c87",
   "metadata": {},
   "source": [
    "## 5. Consumo acumulado global por tipo de café\n"
   ]
  },
  {
   "cell_type": "code",
   "execution_count": null,
   "id": "1ef8b4b1",
   "metadata": {},
   "outputs": [],
   "source": [
    "by_type = (df_long.groupby(\"Tipo_Cafe\", as_index=False)[\"Consumption\"]\n",
    "           .sum().sort_values(\"Consumption\", ascending=False))\n",
    "\n",
    "fig, ax = plt.subplots()\n",
    "ax.bar(by_type[\"Tipo_Cafe\"], by_type[\"Consumption\"], color=sns.color_palette(\"Set2\", n_colors=len(by_type)))\n",
    "ax.set_title(\"Consumo acumulado global por tipo de café (1990–2019)\")\n",
    "ax.set_xlabel(\"Tipo de café\"); ax.set_ylabel(\"Consumo total (tazas)\")\n",
    "label_bars(ax)\n",
    "plt.show()\n"
   ]
  },
  {
   "cell_type": "markdown",
   "id": "25d750cf",
   "metadata": {},
   "source": [
    "## 6. Países con mayor CAGR (tasa de crecimiento anual compuesto)\n"
   ]
  },
  {
   "cell_type": "code",
   "execution_count": null,
   "id": "ead963e0",
   "metadata": {},
   "outputs": [],
   "source": [
    "def compute_cagr(df_long, min_years:int=15):\n",
    "    g = (df_long.sort_values(\"Year\")\n",
    "         .groupby(\"Pais\")\n",
    "         .agg(start_year=(\"Year\",\"min\"),\n",
    "              end_year=(\"Year\",\"max\"),\n",
    "              start_val=(\"Consumption\",\"first\"),\n",
    "              end_val=(\"Consumption\",\"last\"))\n",
    "         .reset_index())\n",
    "    g = g[g[\"start_val\"] > 0]\n",
    "    g[\"years\"] = g[\"end_year\"] - g[\"start_year\"]\n",
    "    g = g[g[\"years\"] >= min_years]\n",
    "    g[\"CAGR\"] = (g[\"end_val\"] / g[\"start_val\"])**(1/g[\"years\"]) - 1\n",
    "    return g.sort_values(\"CAGR\", ascending=False)\n",
    "\n",
    "cagr_df = compute_cagr(df_long, min_years=15).head(10)"
   ]
  },
  {
   "cell_type": "code",
   "execution_count": null,
   "id": "eebd6121",
   "metadata": {},
   "outputs": [],
   "source": [
    "# cagr_df ya calculado; valores en porcentaje:\n",
    "vals = (cagr_df[\"CAGR\"] * 100).to_numpy()\n",
    "\n",
    "fig, ax = plt.subplots(figsize=(10, 7))\n",
    "bars = ax.barh(cagr_df[\"Pais\"], vals, color=sns.color_palette(\"viridis\", len(vals)))\n",
    "\n",
    "ax.set_title(\"Top 10 países por Tasa de Crecimiento (CAGR, 1990–2019)\")\n",
    "ax.set_xlabel(\"Crecimiento anual (%)\"); ax.set_ylabel(\"País\")\n",
    "\n",
    "# Asegura espacio a la derecha para la etiqueta\n",
    "maxv = vals.max()\n",
    "ax.set_xlim(0, maxv * 1.12)  # 12% extra\n",
    "\n",
    "# Padding proporcional al rango del eje\n",
    "xpad = (ax.get_xlim()[1] - ax.get_xlim()[0]) * 0.01\n",
    "\n",
    "# Etiquetas usando la geometría real de cada barra\n",
    "for bar, v in zip(bars, vals):\n",
    "    w = bar.get_width()              # largo de la barra\n",
    "    y = bar.get_y() + bar.get_height()/2  # centro vertical de la barra\n",
    "    ax.text(w + xpad, y, f\"{v:.2f}%\", va=\"center\", ha=\"left\", fontsize=10, color=\"black\")\n",
    "\n",
    "plt.tight_layout()\n",
    "plt.show()"
   ]
  },
  {
   "cell_type": "code",
   "execution_count": null,
   "id": "f74c0a8c",
   "metadata": {},
   "outputs": [],
   "source": [
    "#!pip install yfinance pandas_datareader"
   ]
  },
  {
   "cell_type": "code",
   "execution_count": null,
   "id": "1e2fc37e",
   "metadata": {},
   "outputs": [],
   "source": [
    "#!pip install yfinance"
   ]
  },
  {
   "cell_type": "markdown",
   "id": "28704e3f",
   "metadata": {},
   "source": [
    "# Extraer lo datos del precio del café"
   ]
  },
  {
   "cell_type": "code",
   "execution_count": null,
   "id": "893579ca",
   "metadata": {},
   "outputs": [],
   "source": [
    "import yfinance as yf\n",
    "\n",
    "coffee = yf.download(\"KC=F\", start=\"1990-01-01\", end=\"2020-12-31\", interval=\"1mo\")\n",
    "print(coffee.head())"
   ]
  },
  {
   "cell_type": "markdown",
   "id": "2997f91c",
   "metadata": {},
   "source": [
    "## Paso 1: preparar precios anuales"
   ]
  },
  {
   "cell_type": "code",
   "execution_count": null,
   "id": "9fd7dbc3",
   "metadata": {},
   "outputs": [],
   "source": [
    "# si \"Close\" es un DataFrame multi-columna, agarramos la primera col\n",
    "close_series = coffee[\"Close\"].iloc[:,0] if isinstance(coffee[\"Close\"], pd.DataFrame) else coffee[\"Close\"]\n",
    "\n",
    "# promedio anual\n",
    "price_annual = (\n",
    "    close_series\n",
    "    .resample(\"Y\").mean()\n",
    "    .to_frame(name=\"Price_USc_lb\")\n",
    "    .reset_index()\n",
    ")\n",
    "\n",
    "price_annual[\"Year\"] = price_annual[\"Date\"].dt.year\n",
    "price_annual = price_annual[[\"Year\", \"Price_USc_lb\"]]\n",
    "\n",
    "print(price_annual.head())\n"
   ]
  },
  {
   "cell_type": "markdown",
   "id": "715820b8",
   "metadata": {},
   "source": [
    "## Paso 2: unir con consumo global"
   ]
  },
  {
   "cell_type": "code",
   "execution_count": null,
   "id": "194b14e7",
   "metadata": {},
   "outputs": [],
   "source": [
    "global_ts = df_long.groupby(\"Year\", as_index=False)[\"Consumption\"].sum()\n",
    "cons_price = global_ts.merge(price_annual, on=\"Year\", how=\"inner\")\n",
    "\n",
    "print(cons_price.head())\n"
   ]
  },
  {
   "cell_type": "code",
   "execution_count": null,
   "id": "d531ab17",
   "metadata": {},
   "outputs": [],
   "source": [
    "# === Precio promedio anual del café (KC=F) con etiquetas más visibles ===\n",
    "close_series = coffee[\"Close\"].iloc[:, 0] if isinstance(coffee[\"Close\"], pd.DataFrame) else coffee[\"Close\"]\n",
    "\n",
    "price_annual = (\n",
    "    close_series.resample(\"Y\").mean()\n",
    "    .to_frame(name=\"Price_USc_lb\")\n",
    "    .reset_index()\n",
    ")\n",
    "price_annual[\"Year\"] = price_annual[\"Date\"].dt.year\n",
    "price_annual = price_annual[[\"Year\", \"Price_USc_lb\"]]\n",
    "\n",
    "fig, ax = plt.subplots(figsize=(14,6))\n",
    "ax.plot(price_annual[\"Year\"], price_annual[\"Price_USc_lb\"],\n",
    "        marker=\"o\", linewidth=2.5, color=\"firebrick\")\n",
    "\n",
    "ax.set_title(\"Precio promedio anual del café (KC=F)\", fontsize=16)\n",
    "ax.set_xlabel(\"Año\", fontsize=12)\n",
    "ax.set_ylabel(\"Precio futuros (¢/lb)\", fontsize=12)\n",
    "\n",
    "# Etiquetas más grandes y visibles\n",
    "for _, r in price_annual.iterrows():\n",
    "    ax.text(r[\"Year\"], r[\"Price_USc_lb\"], f\"{r['Price_USc_lb']:.0f}¢\",\n",
    "            ha=\"center\", va=\"bottom\", fontsize=11, weight=\"bold\", color=\"black\")\n",
    "\n",
    "ax.set_xticks(price_annual[\"Year\"])\n",
    "ax.tick_params(axis=\"x\", rotation=75)\n",
    "\n",
    "plt.tight_layout()\n",
    "plt.show()\n"
   ]
  },
  {
   "cell_type": "markdown",
   "id": "0102c27d",
   "metadata": {},
   "source": [
    "### preparar datos para Prophet"
   ]
  },
  {
   "cell_type": "code",
   "execution_count": null,
   "id": "2d0f7bfc",
   "metadata": {},
   "outputs": [],
   "source": [
    "#!pip install prophet"
   ]
  },
  {
   "cell_type": "code",
   "execution_count": null,
   "id": "49e2e930",
   "metadata": {},
   "outputs": [],
   "source": [
    "from prophet import Prophet\n",
    "\n",
    "# --- 1) Preparar dataset global\n",
    "global_ts = df_long.groupby(\"Year\", as_index=False)[\"Consumption\"].sum()\n",
    "\n",
    "# unir con precio (ya tienes price_annual en USD/lb o ¢/lb)\n",
    "close_series = coffee[\"Close\"].iloc[:, 0] if isinstance(coffee[\"Close\"], pd.DataFrame) else coffee[\"Close\"]\n",
    "price_annual = (\n",
    "    close_series.resample(\"Y\").mean().to_frame(\"Price_USD_lb\").reset_index()\n",
    ")\n",
    "price_annual[\"Year\"] = price_annual[\"Date\"].dt.year\n",
    "price_annual = price_annual[[\"Year\", \"Price_USD_lb\"]]\n",
    "\n",
    "# merge\n",
    "cons_price = global_ts.merge(price_annual, on=\"Year\", how=\"inner\")\n",
    "\n",
    "# Prophet requiere fechas reales (no solo año)\n",
    "cons_price[\"ds\"] = pd.to_datetime(cons_price[\"Year\"].astype(str) + \"-01-01\")\n",
    "cons_price[\"y\"] = cons_price[\"Consumption\"]\n",
    "\n",
    "# dataset final para Prophet\n",
    "df_prophet = cons_price[[\"ds\", \"y\", \"Price_USD_lb\"]]\n"
   ]
  },
  {
   "cell_type": "code",
   "execution_count": null,
   "id": "7706726f",
   "metadata": {},
   "outputs": [],
   "source": [
    "# Crear modelo Prophet y añadir el regresor (precio)\n",
    "m = Prophet(yearly_seasonality=False, weekly_seasonality=False, daily_seasonality=False)\n",
    "m.add_regressor(\"Price_USD_lb\")\n",
    "\n",
    "# Entrenar\n",
    "m.fit(df_prophet)"
   ]
  },
  {
   "cell_type": "code",
   "execution_count": null,
   "id": "d8241ac9",
   "metadata": {},
   "outputs": [],
   "source": [
    "# Crear fechas futuras hasta 2025\n",
    "future = pd.DataFrame({\"ds\": pd.date_range(\"2020-01-01\", \"2025-01-01\", freq=\"YE\")})\n",
    "\n",
    "# Usar último precio conocido como proxy\n",
    "last_price = df_prophet[\"Price_USD_lb\"].iloc[-1]\n",
    "future[\"Price_USD_lb\"] = last_price\n",
    "\n",
    "# Concatenar histórico + futuro\n",
    "future = pd.concat([df_prophet[[\"ds\", \"Price_USD_lb\"]], future], ignore_index=True)\n"
   ]
  },
  {
   "cell_type": "code",
   "execution_count": null,
   "id": "2aeecb50",
   "metadata": {},
   "outputs": [],
   "source": [
    "forecast = m.predict(future)"
   ]
  },
  {
   "cell_type": "code",
   "execution_count": null,
   "id": "c4350933",
   "metadata": {},
   "outputs": [],
   "source": [
    "import matplotlib.dates as mdates\n",
    "\n",
    "# === Predicción de consumo global con etiquetas bien posicionadas ===\n",
    "fig, ax = plt.subplots(figsize=(14, 6))\n",
    "\n",
    "# Histórico\n",
    "ax.plot(df_prophet[\"ds\"], df_prophet[\"y\"]/1e9, marker=\"o\", linewidth=2.5,\n",
    "        color=\"steelblue\", label=\"Consumo histórico\")\n",
    "\n",
    "# Forecast\n",
    "ax.plot(forecast[\"ds\"], forecast[\"yhat\"]/1e9, color=\"firebrick\",\n",
    "        linewidth=2.5, label=\"Predicción\")\n",
    "ax.fill_between(forecast[\"ds\"],\n",
    "                forecast[\"yhat_lower\"]/1e9,\n",
    "                forecast[\"yhat_upper\"]/1e9,\n",
    "                color=\"firebrick\", alpha=0.2, label=\"Intervalo\")\n",
    "\n",
    "ax.set_title(\"Predicción de Consumo Global de Café hasta 2025\", fontsize=16)\n",
    "ax.set_xlabel(\"Año\", fontsize=12)\n",
    "ax.set_ylabel(\"Consumo (miles de millones de tazas)\", fontsize=12)\n",
    "\n",
    "# 👉 Etiquetas usando la MISMA escala del eje X (datetime), no .year\n",
    "# Si quieres etiquetar todos, deja el for tal cual; si no, etiqueta desde 2015:\n",
    "for _, r in forecast.iterrows():\n",
    "    ax.text(r[\"ds\"], r[\"yhat\"]/1e9,\n",
    "            f\"{r['yhat']/1e9:.2f}\",\n",
    "            ha=\"center\", va=\"bottom\", fontsize=9)\n",
    "\n",
    "# Eje X anual y bien formateado\n",
    "ax.xaxis.set_major_locator(mdates.YearLocator(base=1))   # cada año\n",
    "ax.xaxis.set_major_formatter(mdates.DateFormatter(\"%Y\"))\n",
    "fig.autofmt_xdate(rotation=75)\n",
    "\n",
    "ax.legend()\n",
    "plt.tight_layout()\n",
    "plt.show()\n"
   ]
  },
  {
   "cell_type": "code",
   "execution_count": null,
   "id": "ea7757fd",
   "metadata": {},
   "outputs": [],
   "source": [
    "#!pip install statsmodels"
   ]
  },
  {
   "cell_type": "code",
   "execution_count": null,
   "id": "3db66082",
   "metadata": {},
   "outputs": [],
   "source": [
    "import matplotlib.pyplot as plt\n",
    "\n",
    "# Serie histórica\n",
    "years_hist = ts.index.year\n",
    "vals_hist = ts.values\n",
    "\n",
    "# Predicción\n",
    "years_pred = pred.index.year\n",
    "vals_pred = pred.values\n",
    "\n",
    "# Intervalo\n",
    "ci_lower = ci.iloc[:, 0]\n",
    "ci_upper = ci.iloc[:, 1]\n",
    "\n",
    "fig, ax = plt.subplots(figsize=(14,6))\n",
    "\n",
    "# Histórico\n",
    "ax.plot(years_hist, vals_hist, marker=\"o\", color=\"steelblue\", linewidth=2, label=\"Histórico\")\n",
    "\n",
    "# Predicción\n",
    "ax.plot(years_pred, vals_pred, marker=\"o\", color=\"firebrick\", linewidth=2, label=\"Predicción\")\n",
    "\n",
    "# Intervalo de confianza\n",
    "ax.fill_between(years_pred, ci_lower, ci_upper, color=\"firebrick\", alpha=0.2, label=\"Intervalo\")\n",
    "\n",
    "# Etiquetas de datos (histórico)\n",
    "for x, y in zip(years_hist, vals_hist):\n",
    "    ax.text(x, y, f\"{y:.0f}\", ha=\"center\", va=\"bottom\", fontsize=8, color=\"black\")\n",
    "\n",
    "# Etiquetas de datos (predicción)\n",
    "for x, y in zip(years_pred, vals_pred):\n",
    "    ax.text(x, y, f\"{y:.0f}\", ha=\"center\", va=\"bottom\", fontsize=8, color=\"black\")\n",
    "\n",
    "# Configuración de ejes\n",
    "all_years = list(years_hist) + list(years_pred)\n",
    "ax.set_xticks(all_years)\n",
    "ax.set_xticklabels(all_years, rotation=45)\n",
    "\n",
    "ax.set_title(\"Predicción precio café (ARIMA)\", fontsize=16)\n",
    "ax.set_xlabel(\"Año\", fontsize=12)\n",
    "ax.set_ylabel(\"Precio\", fontsize=12)\n",
    "ax.legend()\n",
    "\n",
    "plt.tight_layout()\n",
    "plt.show()\n",
    "\n"
   ]
  },
  {
   "cell_type": "code",
   "execution_count": null,
   "id": "b7ffce05",
   "metadata": {},
   "outputs": [],
   "source": []
  }
 ],
 "metadata": {
  "kernelspec": {
   "display_name": ".venv",
   "language": "python",
   "name": "python3"
  },
  "language_info": {
   "codemirror_mode": {
    "name": "ipython",
    "version": 3
   },
   "file_extension": ".py",
   "mimetype": "text/x-python",
   "name": "python",
   "nbconvert_exporter": "python",
   "pygments_lexer": "ipython3",
   "version": "3.11.2"
  }
 },
 "nbformat": 4,
 "nbformat_minor": 5
}
