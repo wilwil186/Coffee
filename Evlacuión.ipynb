{
 "cells": [
  {
   "cell_type": "markdown",
   "id": "4c636eda",
   "metadata": {},
   "source": [
    "\n",
    "# Inferencia (Simple) — High Garden Coffee\n",
    "\n",
    "Cuaderno **mínimo** para:\n",
    "1) Cargar datos limpios (`data/coffee_clean.csv`).\n",
    "2) Encontrar un *artifact* de modelo en `models/`.\n",
    "3) Evaluar por **holdout temporal** (entrena con años `< max_year` y valida en `max_year`).\n",
    "4) Predecir (incluye opción sencilla para **extender** a 2021–2022).\n",
    "\n",
    "> No requiere gráficos ni notebooks previos. Si tu artifact es un `dict` (con `model`) o un `Pipeline`, funciona igual.\n"
   ]
  },
  {
   "cell_type": "code",
   "execution_count": 1,
   "id": "3027addd",
   "metadata": {},
   "outputs": [],
   "source": [
    "\n",
    "import os, glob, warnings\n",
    "import numpy as np\n",
    "import pandas as pd\n",
    "from joblib import load\n",
    "from sklearn.base import clone\n",
    "from IPython.display import display\n",
    "\n",
    "warnings.filterwarnings(\"ignore\")\n",
    "pd.set_option(\"display.width\", 120)\n"
   ]
  },
  {
   "cell_type": "markdown",
   "id": "8d5d4847",
   "metadata": {},
   "source": [
    "## 1) Cargar datos"
   ]
  },
  {
   "cell_type": "code",
   "execution_count": 2,
   "id": "b5bd5bea",
   "metadata": {},
   "outputs": [
    {
     "name": "stdout",
     "output_type": "stream",
     "text": [
      "Columnas: ['country', 'type', 'consumption', 'year', 'price', 'revenue', 'profit', 'margin', 'market_share']\n",
      "Rango de años: 1991 → 2020\n"
     ]
    },
    {
     "data": {
      "application/vnd.microsoft.datawrangler.viewer.v0+json": {
       "columns": [
        {
         "name": "index",
         "rawType": "int64",
         "type": "integer"
        },
        {
         "name": "country",
         "rawType": "object",
         "type": "string"
        },
        {
         "name": "type",
         "rawType": "object",
         "type": "string"
        },
        {
         "name": "consumption",
         "rawType": "int64",
         "type": "integer"
        },
        {
         "name": "year",
         "rawType": "Int64",
         "type": "integer"
        },
        {
         "name": "price",
         "rawType": "float64",
         "type": "float"
        },
        {
         "name": "revenue",
         "rawType": "float64",
         "type": "float"
        },
        {
         "name": "profit",
         "rawType": "float64",
         "type": "float"
        },
        {
         "name": "margin",
         "rawType": "float64",
         "type": "float"
        },
        {
         "name": "market_share",
         "rawType": "float64",
         "type": "float"
        }
       ],
       "ref": "a69c4316-4d2d-49ef-8484-788f18682be5",
       "rows": [
        [
         "0",
         "Angola",
         "Robusta/Arabica",
         "1200000",
         "1991",
         "87.68636322021484",
         "105223635.8642578",
         "105130302.53092448",
         "0.9991130003010564",
         "0.0010251567836341"
        ],
        [
         "1",
         "Angola",
         "Robusta/Arabica",
         "1800000",
         "1992",
         "87.68636322021484",
         "157835453.79638672",
         "157712120.46305338",
         "0.9992185955033116",
         "0.001483085630843"
        ],
        [
         "2",
         "Angola",
         "Robusta/Arabica",
         "2100000",
         "1993",
         "87.68636322021484",
         "184141362.7624512",
         "184003029.42911783",
         "0.9992487655610988",
         "0.0016705286106184"
        ]
       ],
       "shape": {
        "columns": 9,
        "rows": 3
       }
      },
      "text/html": [
       "<div>\n",
       "<style scoped>\n",
       "    .dataframe tbody tr th:only-of-type {\n",
       "        vertical-align: middle;\n",
       "    }\n",
       "\n",
       "    .dataframe tbody tr th {\n",
       "        vertical-align: top;\n",
       "    }\n",
       "\n",
       "    .dataframe thead th {\n",
       "        text-align: right;\n",
       "    }\n",
       "</style>\n",
       "<table border=\"1\" class=\"dataframe\">\n",
       "  <thead>\n",
       "    <tr style=\"text-align: right;\">\n",
       "      <th></th>\n",
       "      <th>country</th>\n",
       "      <th>type</th>\n",
       "      <th>consumption</th>\n",
       "      <th>year</th>\n",
       "      <th>price</th>\n",
       "      <th>revenue</th>\n",
       "      <th>profit</th>\n",
       "      <th>margin</th>\n",
       "      <th>market_share</th>\n",
       "    </tr>\n",
       "  </thead>\n",
       "  <tbody>\n",
       "    <tr>\n",
       "      <th>0</th>\n",
       "      <td>Angola</td>\n",
       "      <td>Robusta/Arabica</td>\n",
       "      <td>1200000</td>\n",
       "      <td>1991</td>\n",
       "      <td>87.686363</td>\n",
       "      <td>1.052236e+08</td>\n",
       "      <td>1.051303e+08</td>\n",
       "      <td>0.999113</td>\n",
       "      <td>0.001025</td>\n",
       "    </tr>\n",
       "    <tr>\n",
       "      <th>1</th>\n",
       "      <td>Angola</td>\n",
       "      <td>Robusta/Arabica</td>\n",
       "      <td>1800000</td>\n",
       "      <td>1992</td>\n",
       "      <td>87.686363</td>\n",
       "      <td>1.578355e+08</td>\n",
       "      <td>1.577121e+08</td>\n",
       "      <td>0.999219</td>\n",
       "      <td>0.001483</td>\n",
       "    </tr>\n",
       "    <tr>\n",
       "      <th>2</th>\n",
       "      <td>Angola</td>\n",
       "      <td>Robusta/Arabica</td>\n",
       "      <td>2100000</td>\n",
       "      <td>1993</td>\n",
       "      <td>87.686363</td>\n",
       "      <td>1.841414e+08</td>\n",
       "      <td>1.840030e+08</td>\n",
       "      <td>0.999249</td>\n",
       "      <td>0.001671</td>\n",
       "    </tr>\n",
       "  </tbody>\n",
       "</table>\n",
       "</div>"
      ],
      "text/plain": [
       "  country             type  consumption  year      price       revenue        profit    margin  market_share\n",
       "0  Angola  Robusta/Arabica      1200000  1991  87.686363  1.052236e+08  1.051303e+08  0.999113      0.001025\n",
       "1  Angola  Robusta/Arabica      1800000  1992  87.686363  1.578355e+08  1.577121e+08  0.999219      0.001483\n",
       "2  Angola  Robusta/Arabica      2100000  1993  87.686363  1.841414e+08  1.840030e+08  0.999249      0.001671"
      ]
     },
     "metadata": {},
     "output_type": "display_data"
    }
   ],
   "source": [
    "\n",
    "# Ajusta la ruta si es necesario\n",
    "DF_PATH = \"data/coffee_clean.csv\"\n",
    "\n",
    "df = pd.read_csv(DF_PATH)\n",
    "df.columns = [c.strip().lower() for c in df.columns]\n",
    "df[\"year\"] = pd.to_numeric(df[\"year\"], errors=\"coerce\").astype(\"Int64\")\n",
    "df = df.sort_values([\"country\",\"type\",\"year\"]).reset_index(drop=True)\n",
    "\n",
    "print(\"Columnas:\", df.columns.tolist())\n",
    "print(\"Rango de años:\", int(df[\"year\"].dropna().min()), \"→\", int(df[\"year\"].dropna().max()))\n",
    "display(df.head(3))\n"
   ]
  },
  {
   "cell_type": "markdown",
   "id": "3f0d7bb1",
   "metadata": {},
   "source": [
    "## 2) Helpers (artifact y columnas)"
   ]
  },
  {
   "cell_type": "code",
   "execution_count": 3,
   "id": "51ec8249",
   "metadata": {},
   "outputs": [],
   "source": [
    "\n",
    "def find_artifact(models_dir=\"models\", target=\"price\"):\n",
    "    \"\"\"Busca un .joblib en models/. Prioriza nombres que contengan el target.\"\"\"\n",
    "    for pat in (f\"*{target}*.joblib\", \"*.joblib\"):\n",
    "        files = sorted(glob.glob(os.path.join(models_dir, pat)))\n",
    "        if files:\n",
    "            print(\"Artifact elegido:\", os.path.basename(files[0]))\n",
    "            return files[0]\n",
    "    raise FileNotFoundError(\"No encontré .joblib en 'models/'.\")\n",
    "\n",
    "def expected_input_columns_from_pipeline(mdl):\n",
    "    \"\"\"Extrae columnas que puedan estar configuradas en un ColumnTransformer (si aplica).\"\"\"\n",
    "    cols = []\n",
    "    try:\n",
    "        for _, step in getattr(mdl, \"steps\", []):\n",
    "            transformers = getattr(step, \"transformers\", None)\n",
    "            if not transformers: \n",
    "                continue\n",
    "            for _, __, c in transformers:\n",
    "                if isinstance(c, (list, tuple)):\n",
    "                    cols.extend([str(x) for x in c])\n",
    "                elif isinstance(c, str):\n",
    "                    cols.append(c)\n",
    "        # unique preserving order\n",
    "        seen=set(); out=[]\n",
    "        for c in cols:\n",
    "            if c not in seen:\n",
    "                seen.add(c); out.append(c)\n",
    "        return out\n",
    "    except Exception:\n",
    "        return []\n",
    "\n",
    "def ensure_compat_columns(dfin, expected_cols):\n",
    "    if not expected_cols:\n",
    "        return dfin\n",
    "    d = dfin.copy()\n",
    "    for c in expected_cols:\n",
    "        if c not in d.columns:\n",
    "            d[c] = np.nan\n",
    "    return d[expected_cols]\n"
   ]
  },
  {
   "cell_type": "markdown",
   "id": "a73b3d79",
   "metadata": {},
   "source": [
    "## 3) `build_xy` mínima (para artifacts tipo dict)"
   ]
  },
  {
   "cell_type": "code",
   "execution_count": 4,
   "id": "7ec6aad7",
   "metadata": {},
   "outputs": [],
   "source": [
    "\n",
    "def build_xy(df_in: pd.DataFrame, target: str):\n",
    "    d = df_in.copy()\n",
    "    d.columns = [c.strip().lower() for c in d.columns]\n",
    "\n",
    "    # y\n",
    "    if target in d.columns:\n",
    "        y = pd.to_numeric(d[target], errors=\"coerce\")\n",
    "    else:\n",
    "        y = pd.Series(np.nan, index=d.index, dtype=float)\n",
    "\n",
    "    # X: year + one-hot de country/type si existen\n",
    "    parts = []\n",
    "    if \"year\" in d.columns:\n",
    "        parts.append(pd.to_numeric(d[\"year\"], errors=\"coerce\").to_frame(\"year\"))\n",
    "    for cat in [\"country\",\"type\"]:\n",
    "        if cat in d.columns:\n",
    "            parts.append(pd.get_dummies(d[cat].astype(str), prefix=cat, drop_first=False))\n",
    "\n",
    "    if not parts:\n",
    "        parts.append(pd.DataFrame({\"row_ix\": np.arange(len(d), dtype=float)}, index=d.index))\n",
    "\n",
    "    X = pd.concat(parts, axis=1)\n",
    "    return X, y, {}\n"
   ]
  },
  {
   "cell_type": "markdown",
   "id": "03caa4f2",
   "metadata": {},
   "source": [
    "## 4) Evaluación por holdout (simple y robusta)"
   ]
  },
  {
   "cell_type": "code",
   "execution_count": 5,
   "id": "a3d0ca94",
   "metadata": {},
   "outputs": [],
   "source": [
    "\n",
    "def evaluate_holdout(df_in: pd.DataFrame, target=\"price\", models_dir=\"models\"):\n",
    "    art_path = find_artifact(models_dir=models_dir, target=target)\n",
    "    art = load(art_path)\n",
    "\n",
    "    d = df_in.copy()\n",
    "    d.columns = [c.strip().lower() for c in d.columns]\n",
    "    if \"year\" not in d.columns:\n",
    "        raise ValueError(\"Se requiere columna 'year' para holdout temporal.\")\n",
    "\n",
    "    max_year = int(pd.to_numeric(d[\"year\"], errors=\"coerce\").dropna().max())\n",
    "    tr_mask = d[\"year\"] < max_year\n",
    "    va_mask = d[\"year\"] == max_year\n",
    "\n",
    "    # Caso 1: artifact dict => usa build_xy (misma lógica de features)\n",
    "    if isinstance(art, dict) and \"model\" in art:\n",
    "        mdl = art[\"model\"]\n",
    "        X_all, y_all, _ = build_xy(d, target)\n",
    "        X_tr = X_all.loc[tr_mask].dropna(); y_tr = y_all.loc[X_tr.index]\n",
    "        X_va = X_all.loc[va_mask].dropna(); y_va = y_all.loc[X_va.index]\n",
    "    else:\n",
    "        # Caso 2: Pipeline => pasa columnas crudas que espera el ColumnTransformer\n",
    "        mdl = art\n",
    "        expected = expected_input_columns_from_pipeline(mdl)\n",
    "        d_use = ensure_compat_columns(d, expected)\n",
    "        # y para evaluación\n",
    "        y_all = pd.to_numeric(d.get(target, np.nan), errors=\"coerce\")\n",
    "        X_tr = d_use.loc[tr_mask].copy(); y_tr = y_all.loc[X_tr.index]\n",
    "        X_va = d_use.loc[va_mask].copy(); y_va = y_all.loc[X_va.index]\n",
    "        # quitar NaN en y\n",
    "        keep_tr = y_tr.notna(); X_tr, y_tr = X_tr.loc[keep_tr], y_tr.loc[keep_tr]\n",
    "        keep_va = y_va.notna(); X_va, y_va = X_va.loc[keep_va], y_va.loc[keep_va]\n",
    "\n",
    "    model_fit = clone(mdl).fit(X_tr, y_tr)\n",
    "    pred = model_fit.predict(X_va)\n",
    "\n",
    "    # métricas\n",
    "    def rmse(y_true, y_pred):\n",
    "        yt, yp = np.asarray(y_true, float), np.asarray(y_pred, float)\n",
    "        return float(np.sqrt(np.mean((yt-yp)**2)))\n",
    "    def smape(y_true, y_pred):\n",
    "        yt, yp = np.asarray(y_true, float), np.asarray(y_pred, float)\n",
    "        denom = np.abs(yt)+np.abs(yp); denom = np.where(denom==0, 1e-9, denom)\n",
    "        return float(np.mean(2*np.abs(yp-yt)/denom)*100)\n",
    "    mae = float(np.mean(np.abs(y_va - pred)))\n",
    "\n",
    "    print(f\"▶ EVAL HOLDOUT — target={target}, año_val={max_year}\")\n",
    "    print(f\"  RMSE     : {rmse(y_va, pred):,.6f}\")\n",
    "    print(f\"  MAE      : {mae:,.6f}\")\n",
    "    print(f\"  sMAPE(%) : {smape(y_va, pred):,.6f}\")\n",
    "    print(f\"  n_val    : {int(len(y_va))}\")\n",
    "    return {\"artifact\": art_path, \"RMSE\": rmse(y_va, pred), \"MAE\": mae, \"sMAPE(%)\": smape(y_va, pred), \"n_val\": int(len(y_va))}\n"
   ]
  },
  {
   "cell_type": "markdown",
   "id": "886248fe",
   "metadata": {},
   "source": [
    "## 5) Predicción (incluye opción de años futuros)"
   ]
  },
  {
   "cell_type": "code",
   "execution_count": 6,
   "id": "3b634ea9",
   "metadata": {},
   "outputs": [],
   "source": [
    "\n",
    "def predict_simple(df_in: pd.DataFrame, target=\"price\", models_dir=\"models\", future_years=None):\n",
    "    art_path = find_artifact(models_dir=models_dir, target=target)\n",
    "    art = load(art_path)\n",
    "\n",
    "    # extender años si se pide\n",
    "    d = df_in.copy()\n",
    "    d.columns = [c.strip().lower() for c in d.columns]\n",
    "    if future_years:\n",
    "        combos = d[[\"country\",\"type\"]].drop_duplicates() if set([\"country\",\"type\"]).issubset(d.columns) else pd.DataFrame(index=[0])\n",
    "        fut = []\n",
    "        for y in future_years:\n",
    "            if not combos.empty:\n",
    "                fut.append(pd.DataFrame({\"country\": combos[\"country\"], \"type\": combos[\"type\"], \"year\": y}))\n",
    "            else:\n",
    "                fut.append(pd.DataFrame({\"year\": [y]}))\n",
    "        d = (pd.concat([d] + fut, ignore_index=True)\n",
    "               .sort_values([\"country\",\"type\",\"year\"] if set([\"country\",\"type\"]).issubset(d.columns) else [\"year\"])\n",
    "               .reset_index(drop=True))\n",
    "\n",
    "    if isinstance(art, dict) and \"model\" in art:\n",
    "        mdl = art[\"model\"]\n",
    "        y_use = art.get(\"y_col\", target)\n",
    "        X_all, _, _ = build_xy(d, y_use)\n",
    "        X_use = X_all.dropna()\n",
    "        preds = mdl.predict(X_use)\n",
    "        base_cols = [\"year\"] + [c for c in (\"country\",\"type\") if c in d.columns]\n",
    "        out = d.loc[X_use.index, base_cols].copy()\n",
    "        out[f\"pred_{y_use}\"] = preds\n",
    "        # intervalos si existen en artifact\n",
    "        q80 = float(art.get(\"PI80_abs\", 0.0)); q95 = float(art.get(\"PI95_abs\", 0.0))\n",
    "        if q80 > 0:\n",
    "            out[f\"pred_{y_use}_lo80\"] = preds - q80\n",
    "            out[f\"pred_{y_use}_hi80\"] = preds + q80\n",
    "        if q95 > 0:\n",
    "            out[f\"pred_{y_use}_lo95\"] = preds - q95\n",
    "            out[f\"pred_{y_use}_hi95\"] = preds + q95\n",
    "        return out.reset_index(drop=True)\n",
    "    else:\n",
    "        mdl = art\n",
    "        expected = expected_input_columns_from_pipeline(mdl)\n",
    "        d_use = ensure_compat_columns(d, expected)\n",
    "        preds = mdl.predict(d_use)\n",
    "        base_cols = [\"year\"] + [c for c in (\"country\",\"type\") if c in d.columns]\n",
    "        out = d.loc[:, base_cols].copy()\n",
    "        out[f\"pred_{target}\"] = preds\n",
    "        return out.reset_index(drop=True)\n"
   ]
  },
  {
   "cell_type": "markdown",
   "id": "07e36420",
   "metadata": {},
   "source": [
    "## 6) Ejecutar: evaluar y predecir"
   ]
  },
  {
   "cell_type": "code",
   "execution_count": 7,
   "id": "fb9de27f",
   "metadata": {},
   "outputs": [
    {
     "name": "stdout",
     "output_type": "stream",
     "text": [
      "Artifact elegido: lasso_price.joblib\n",
      "▶ EVAL HOLDOUT — target=price, año_val=2020\n",
      "  RMSE     : 11.862949\n",
      "  MAE      : 7.892790\n",
      "  sMAPE(%) : 7.072279\n",
      "  n_val    : 55\n",
      "\n",
      "Artifact usado: lasso_price.joblib\n",
      "Artifact elegido: lasso_price.joblib\n",
      "\n",
      "Predicciones: (1760, 4)\n"
     ]
    },
    {
     "data": {
      "application/vnd.microsoft.datawrangler.viewer.v0+json": {
       "columns": [
        {
         "name": "index",
         "rawType": "int64",
         "type": "integer"
        },
        {
         "name": "year",
         "rawType": "Int64",
         "type": "integer"
        },
        {
         "name": "country",
         "rawType": "object",
         "type": "string"
        },
        {
         "name": "type",
         "rawType": "object",
         "type": "string"
        },
        {
         "name": "pred_price",
         "rawType": "float64",
         "type": "float"
        }
       ],
       "ref": "e5faf198-39a5-4cae-a79b-b45e1887f4d8",
       "rows": [
        [
         "0",
         "1991",
         "Angola",
         "Robusta/Arabica",
         "108.32416876986144"
        ],
        [
         "1",
         "1992",
         "Angola",
         "Robusta/Arabica",
         "108.61649892920559"
        ],
        [
         "2",
         "1993",
         "Angola",
         "Robusta/Arabica",
         "108.71143725402408"
        ],
        [
         "3",
         "1994",
         "Angola",
         "Robusta/Arabica",
         "108.33501187468983"
        ],
        [
         "4",
         "1995",
         "Angola",
         "Robusta/Arabica",
         "108.50872070867626"
        ],
        [
         "5",
         "1996",
         "Angola",
         "Robusta/Arabica",
         "107.5168179360603"
        ],
        [
         "6",
         "1997",
         "Angola",
         "Robusta/Arabica",
         "108.34868641283538"
        ],
        [
         "7",
         "1998",
         "Angola",
         "Robusta/Arabica",
         "108.81684149925695"
        ],
        [
         "8",
         "1999",
         "Angola",
         "Robusta/Arabica",
         "108.65704445662323"
        ],
        [
         "9",
         "2000",
         "Angola",
         "Robusta/Arabica",
         "108.35903063624482"
        ]
       ],
       "shape": {
        "columns": 4,
        "rows": 10
       }
      },
      "text/html": [
       "<div>\n",
       "<style scoped>\n",
       "    .dataframe tbody tr th:only-of-type {\n",
       "        vertical-align: middle;\n",
       "    }\n",
       "\n",
       "    .dataframe tbody tr th {\n",
       "        vertical-align: top;\n",
       "    }\n",
       "\n",
       "    .dataframe thead th {\n",
       "        text-align: right;\n",
       "    }\n",
       "</style>\n",
       "<table border=\"1\" class=\"dataframe\">\n",
       "  <thead>\n",
       "    <tr style=\"text-align: right;\">\n",
       "      <th></th>\n",
       "      <th>year</th>\n",
       "      <th>country</th>\n",
       "      <th>type</th>\n",
       "      <th>pred_price</th>\n",
       "    </tr>\n",
       "  </thead>\n",
       "  <tbody>\n",
       "    <tr>\n",
       "      <th>0</th>\n",
       "      <td>1991</td>\n",
       "      <td>Angola</td>\n",
       "      <td>Robusta/Arabica</td>\n",
       "      <td>108.324169</td>\n",
       "    </tr>\n",
       "    <tr>\n",
       "      <th>1</th>\n",
       "      <td>1992</td>\n",
       "      <td>Angola</td>\n",
       "      <td>Robusta/Arabica</td>\n",
       "      <td>108.616499</td>\n",
       "    </tr>\n",
       "    <tr>\n",
       "      <th>2</th>\n",
       "      <td>1993</td>\n",
       "      <td>Angola</td>\n",
       "      <td>Robusta/Arabica</td>\n",
       "      <td>108.711437</td>\n",
       "    </tr>\n",
       "    <tr>\n",
       "      <th>3</th>\n",
       "      <td>1994</td>\n",
       "      <td>Angola</td>\n",
       "      <td>Robusta/Arabica</td>\n",
       "      <td>108.335012</td>\n",
       "    </tr>\n",
       "    <tr>\n",
       "      <th>4</th>\n",
       "      <td>1995</td>\n",
       "      <td>Angola</td>\n",
       "      <td>Robusta/Arabica</td>\n",
       "      <td>108.508721</td>\n",
       "    </tr>\n",
       "    <tr>\n",
       "      <th>5</th>\n",
       "      <td>1996</td>\n",
       "      <td>Angola</td>\n",
       "      <td>Robusta/Arabica</td>\n",
       "      <td>107.516818</td>\n",
       "    </tr>\n",
       "    <tr>\n",
       "      <th>6</th>\n",
       "      <td>1997</td>\n",
       "      <td>Angola</td>\n",
       "      <td>Robusta/Arabica</td>\n",
       "      <td>108.348686</td>\n",
       "    </tr>\n",
       "    <tr>\n",
       "      <th>7</th>\n",
       "      <td>1998</td>\n",
       "      <td>Angola</td>\n",
       "      <td>Robusta/Arabica</td>\n",
       "      <td>108.816841</td>\n",
       "    </tr>\n",
       "    <tr>\n",
       "      <th>8</th>\n",
       "      <td>1999</td>\n",
       "      <td>Angola</td>\n",
       "      <td>Robusta/Arabica</td>\n",
       "      <td>108.657044</td>\n",
       "    </tr>\n",
       "    <tr>\n",
       "      <th>9</th>\n",
       "      <td>2000</td>\n",
       "      <td>Angola</td>\n",
       "      <td>Robusta/Arabica</td>\n",
       "      <td>108.359031</td>\n",
       "    </tr>\n",
       "  </tbody>\n",
       "</table>\n",
       "</div>"
      ],
      "text/plain": [
       "   year country             type  pred_price\n",
       "0  1991  Angola  Robusta/Arabica  108.324169\n",
       "1  1992  Angola  Robusta/Arabica  108.616499\n",
       "2  1993  Angola  Robusta/Arabica  108.711437\n",
       "3  1994  Angola  Robusta/Arabica  108.335012\n",
       "4  1995  Angola  Robusta/Arabica  108.508721\n",
       "5  1996  Angola  Robusta/Arabica  107.516818\n",
       "6  1997  Angola  Robusta/Arabica  108.348686\n",
       "7  1998  Angola  Robusta/Arabica  108.816841\n",
       "8  1999  Angola  Robusta/Arabica  108.657044\n",
       "9  2000  Angola  Robusta/Arabica  108.359031"
      ]
     },
     "metadata": {},
     "output_type": "display_data"
    },
    {
     "name": "stdout",
     "output_type": "stream",
     "text": [
      "Filas ejemplo (Brazil, Arab*, año=2022): 1\n"
     ]
    },
    {
     "data": {
      "application/vnd.microsoft.datawrangler.viewer.v0+json": {
       "columns": [
        {
         "name": "index",
         "rawType": "int64",
         "type": "integer"
        },
        {
         "name": "year",
         "rawType": "Int64",
         "type": "integer"
        },
        {
         "name": "country",
         "rawType": "object",
         "type": "string"
        },
        {
         "name": "type",
         "rawType": "object",
         "type": "string"
        },
        {
         "name": "pred_price",
         "rawType": "float64",
         "type": "float"
        }
       ],
       "ref": "40e23a93-70d2-4712-b330-11aec0af928b",
       "rows": [
        [
         "95",
         "2022",
         "Brazil",
         "Arabica/Robusta",
         "137.51318871974217"
        ]
       ],
       "shape": {
        "columns": 4,
        "rows": 1
       }
      },
      "text/html": [
       "<div>\n",
       "<style scoped>\n",
       "    .dataframe tbody tr th:only-of-type {\n",
       "        vertical-align: middle;\n",
       "    }\n",
       "\n",
       "    .dataframe tbody tr th {\n",
       "        vertical-align: top;\n",
       "    }\n",
       "\n",
       "    .dataframe thead th {\n",
       "        text-align: right;\n",
       "    }\n",
       "</style>\n",
       "<table border=\"1\" class=\"dataframe\">\n",
       "  <thead>\n",
       "    <tr style=\"text-align: right;\">\n",
       "      <th></th>\n",
       "      <th>year</th>\n",
       "      <th>country</th>\n",
       "      <th>type</th>\n",
       "      <th>pred_price</th>\n",
       "    </tr>\n",
       "  </thead>\n",
       "  <tbody>\n",
       "    <tr>\n",
       "      <th>95</th>\n",
       "      <td>2022</td>\n",
       "      <td>Brazil</td>\n",
       "      <td>Arabica/Robusta</td>\n",
       "      <td>137.513189</td>\n",
       "    </tr>\n",
       "  </tbody>\n",
       "</table>\n",
       "</div>"
      ],
      "text/plain": [
       "    year country             type  pred_price\n",
       "95  2022  Brazil  Arabica/Robusta  137.513189"
      ]
     },
     "metadata": {},
     "output_type": "display_data"
    }
   ],
   "source": [
    "\n",
    "# Cambia el objetivo si quieres ('price', 'consumption', 'profit')\n",
    "TARGET = \"price\"\n",
    "\n",
    "# 6.1 Evaluación (holdout último año)\n",
    "eval_out = evaluate_holdout(df, target=TARGET)\n",
    "print(\"\\nArtifact usado:\", os.path.basename(eval_out[\"artifact\"]))\n",
    "\n",
    "# 6.2 Predicción (opcional: años futuros)\n",
    "FUTURE_YEARS = [2021, 2022]   # déjalo [] si no quieres futuro\n",
    "preds = predict_simple(df, target=TARGET, future_years=FUTURE_YEARS)\n",
    "\n",
    "print(\"\\nPredicciones:\", preds.shape)\n",
    "display(preds.head(10))\n",
    "# Ejemplo rápido: Brasil + Arab* en el último año disponible\n",
    "try:\n",
    "    last_year = int(pd.to_numeric(preds[\"year\"], errors=\"coerce\").dropna().max())\n",
    "    ex = preds.query(\"country.str.contains('brazil', case=False) and type.str.contains('arab', case=False) and year == @last_year\", engine=\"python\")\n",
    "    print(f\"Filas ejemplo (Brazil, Arab*, año={last_year}):\", len(ex))\n",
    "    display(ex.head(10))\n",
    "except Exception as e:\n",
    "    print(\"Filtro ejemplo no aplicó:\", e)\n"
   ]
  }
 ],
 "metadata": {
  "kernelspec": {
   "display_name": ".venv",
   "language": "python",
   "name": "python3"
  },
  "language_info": {
   "codemirror_mode": {
    "name": "ipython",
    "version": 3
   },
   "file_extension": ".py",
   "mimetype": "text/x-python",
   "name": "python",
   "nbconvert_exporter": "python",
   "pygments_lexer": "ipython3",
   "version": "3.11.2"
  }
 },
 "nbformat": 4,
 "nbformat_minor": 5
}
