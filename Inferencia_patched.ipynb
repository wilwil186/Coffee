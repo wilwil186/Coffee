{
  "cells": [
    {
      "cell_type": "markdown",
      "metadata": {},
      "source": [
        "# 📘 Inferencia\n",
        "\n",
        "Cuaderno para entrenar y exportar modelos de `price`, `consumption` y `profit`.\n",
        "\n",
        "Incluye parches mínimos:\n",
        "- `positive_wrapper` con `TransformedTargetRegressor` (sin lambdas) para evitar valores negativos en *price/consumption*.\n",
        "- Imputación simple de NaN en `X` y recorte de `y>=0` cuando aplica.\n",
        "- Guardado de *artifacts* “ricos” en `models/{target}_model.joblib`, compatibles con la app/bot.\n"
      ]
    },
    {
      "cell_type": "code",
      "execution_count": 1,
      "metadata": {},
      "outputs": [
        {
          "name": "stdout",
          "output_type": "stream",
          "text": [
            "Usando DATA_CLEAN = data/coffee_clean.csv\n"
          ]
        }
      ],
      "source": [
        "# === Imports y configuración ===\n",
        "import os, warnings\n",
        "import numpy as np\n",
        "import pandas as pd\n",
        "from pathlib import Path\n",
        "from joblib import dump\n",
        "\n",
        "from sklearn.metrics import mean_absolute_error, mean_squared_error\n",
        "from sklearn.preprocessing import StandardScaler\n",
        "from sklearn.compose import TransformedTargetRegressor\n",
        "from sklearn.pipeline import Pipeline\n",
        "from sklearn.linear_model import Ridge, Lasso\n",
        "from sklearn.ensemble import RandomForestRegressor\n",
        "\n",
        "warnings.filterwarnings('ignore')\n",
        "\n",
        "DATA_CLEAN = os.getenv('DATA_CLEAN', 'data/coffee_clean.csv')\n",
        "OUT_MODELS = Path('models'); OUT_MODELS.mkdir(exist_ok=True)\n",
        "OUT_PREDS  = Path('predicciones'); OUT_PREDS.mkdir(exist_ok=True)\n",
        "RANDOM_STATE = 42\n",
        "print('Usando DATA_CLEAN =', DATA_CLEAN)"
      ]
    },
    {
      "cell_type": "code",
      "execution_count": 2,
      "metadata": {},
      "outputs": [],
      "source": [
        "# === Utilidades ===\n",
        "def print_header(title: str):\n",
        "    print('\\n' + '='*len(title))\n",
        "    print(title)\n",
        "    print('='*len(title))\n",
        "\n",
        "def smape(y_true, y_pred):\n",
        "    y_true = np.asarray(y_true, dtype=float)\n",
        "    y_pred = np.asarray(y_pred, dtype=float)\n",
        "    denom = (np.abs(y_true) + np.abs(y_pred))\n",
        "    denom = np.where(denom==0, 1.0, denom)\n",
        "    return 100.0 * np.mean(np.abs(y_pred - y_true) / denom)\n",
        "\n",
        "def positive_wrapper(regressor):\n",
        "    \"\"\"Wrapper picklable: log1p/expm1 para targets no negativos.\"\"\"\n",
        "    return TransformedTargetRegressor(\n",
        "        regressor=regressor,\n",
        "        func=np.log1p,\n",
        "        inverse_func=np.expm1\n",
        "    )\n",
        "\n",
        "def ensure_basic_cols(df: pd.DataFrame) -> pd.DataFrame:\n",
        "    df = df.copy()\n",
        "    if 'Country' in df.columns and 'country' not in df.columns:\n",
        "        df = df.rename(columns={'Country': 'country'})\n",
        "    if 'Coffee type' in df.columns and 'type' not in df.columns:\n",
        "        df = df.rename(columns={'Coffee type': 'type'})\n",
        "    if 'año' in df.columns and 'year' not in df.columns:\n",
        "        df = df.rename(columns={'año': 'year'})\n",
        "    if 'year' in df.columns:\n",
        "        df['year'] = pd.to_numeric(df['year'], errors='coerce').astype('Int64')\n",
        "    return df\n",
        "\n",
        "def load_master_df():\n",
        "    for p in [DATA_CLEAN, 'coffee_clean.csv', 'coffee_db.csv']:\n",
        "        if os.path.exists(p):\n",
        "            return ensure_basic_cols(pd.read_csv(p))\n",
        "    raise FileNotFoundError('No encontré data. Revisa DATA_CLEAN o coloca coffee_clean.csv.')\n",
        "\n",
        "def try_import_build_xy():\n",
        "    try:\n",
        "        from utils.features import build_xy  # si existe en tu repo\n",
        "        return build_xy\n",
        "    except Exception:\n",
        "        return None\n",
        "\n",
        "def build_xy_fallback(df_all: pd.DataFrame, y_col: str):\n",
        "    # Fallback simple: year + dummies para country/type (sin lags para evitar NaN)\n",
        "    df = df_all.copy()\n",
        "    base = [c for c in ['year','country','type'] if c in df.columns]\n",
        "    X = pd.get_dummies(df[base], columns=[c for c in ['country','type'] if c in base], drop_first=False)\n",
        "    y = df[y_col] if y_col in df.columns else None\n",
        "    meta = {'group_cols': [c for c in ['country','type'] if c in df.columns]}\n",
        "    return X, y, meta"
      ]
    },
    {
      "cell_type": "code",
      "execution_count": 3,
      "metadata": {},
      "outputs": [
        {
          "name": "stdout",
          "output_type": "stream",
          "text": [
            "Rango de años: (1991, 2020)\n",
            "Columnas: ['country', 'type', 'consumption', 'year', 'price', 'revenue', 'profit', 'margin', 'market_share']\n",
            "Targets: ['price', 'consumption', 'profit']\n"
          ]
        }
      ],
      "source": [
        "# === Cargar dataset ===\n",
        "master_df = load_master_df()\n",
        "print('Rango de años:', (int(master_df['year'].min()), int(master_df['year'].max())))\n",
        "print('Columnas:', list(master_df.columns))\n",
        "TARGETS = [c for c in ['price','consumption','profit'] if c in master_df.columns]\n",
        "assert len(TARGETS)>0, 'No hay columnas de target (price/consumption/profit).'\n",
        "print('Targets:', TARGETS)"
      ]
    },
    {
      "cell_type": "code",
      "execution_count": 4,
      "metadata": {},
      "outputs": [
        {
          "name": "stdout",
          "output_type": "stream",
          "text": [
            "\n",
            "=========================\n",
            "Entrenando target = price\n",
            "=========================\n",
            "Mejor modelo en val: rf (MAE=10.0550)\n",
            "Test price: RMSE=0.8500 | MAE=0.8500 | sMAPE=0.383% | n_test=55\n",
            "✅ Artifact guardado -> models/price_model.joblib\n",
            "\n",
            "===============================\n",
            "Entrenando target = consumption\n",
            "===============================\n",
            "Mejor modelo en val: rf (MAE=1545649.7304)\n",
            "Test consumption: RMSE=5270065.0822 | MAE=2021107.0803 | sMAPE=1.547% | n_test=55\n",
            "✅ Artifact guardado -> models/consumption_model.joblib\n",
            "\n",
            "==========================\n",
            "Entrenando target = profit\n",
            "==========================\n",
            "Mejor modelo en val: rf (MAE=819023721.3023)\n",
            "Test profit: RMSE=1236075648.5734 | MAE=376286684.7858 | sMAPE=4.984% | n_test=55\n",
            "✅ Artifact guardado -> models/profit_model.joblib\n"
          ]
        },
        {
          "data": {
            "application/vnd.microsoft.datawrangler.viewer.v0+json": {
              "columns": [
                {
                  "name": "index",
                  "rawType": "int64",
                  "type": "integer"
                },
                {
                  "name": "target",
                  "rawType": "object",
                  "type": "string"
                },
                {
                  "name": "best_model",
                  "rawType": "object",
                  "type": "string"
                },
                {
                  "name": "RMSE",
                  "rawType": "float64",
                  "type": "float"
                },
                {
                  "name": "MAE",
                  "rawType": "float64",
                  "type": "float"
                },
                {
                  "name": "sMAPE%",
                  "rawType": "float64",
                  "type": "float"
                },
                {
                  "name": "n_test",
                  "rawType": "int64",
                  "type": "integer"
                },
                {
                  "name": "artifact",
                  "rawType": "object",
                  "type": "string"
                },
                {
                  "name": "PI80_abs",
                  "rawType": "float64",
                  "type": "float"
                },
                {
                  "name": "PI95_abs",
                  "rawType": "float64",
                  "type": "float"
                },
                {
                  "name": "test_year",
                  "rawType": "int64",
                  "type": "integer"
                },
                {
                  "name": "val_year",
                  "rawType": "int64",
                  "type": "integer"
                }
              ],
              "ref": "7c0bfdc7-5992-4ed7-9564-211742170bd7",
              "rows": [
                [
                  "0",
                  "price",
                  "rf",
                  "0.8499984741170297",
                  "0.8499984741170294",
                  "0.3827615055095873",
                  "55",
                  "models/price_model.joblib",
                  "10.054999542232267",
                  "10.054999542232267",
                  "2020",
                  "2019"
                ],
                [
                  "1",
                  "consumption",
                  "rf",
                  "5270065.082201589",
                  "2021107.08025275",
                  "1.5471056965428311",
                  "55",
                  "models/consumption_model.joblib",
                  "588040.7858711011",
                  "7660838.705780225",
                  "2020",
                  "2019"
                ],
                [
                  "2",
                  "profit",
                  "rf",
                  "1236075648.5733502",
                  "376286684.78582203",
                  "4.983959288535982",
                  "55",
                  "models/profit_model.joblib",
                  "410555373.1499888",
                  "2720335659.937703",
                  "2020",
                  "2019"
                ]
              ],
              "shape": {
                "columns": 11,
                "rows": 3
              }
            },
            "text/html": [
              "<div>\n",
              "<style scoped>\n",
              "    .dataframe tbody tr th:only-of-type {\n",
              "        vertical-align: middle;\n",
              "    }\n",
              "\n",
              "    .dataframe tbody tr th {\n",
              "        vertical-align: top;\n",
              "    }\n",
              "\n",
              "    .dataframe thead th {\n",
              "        text-align: right;\n",
              "    }\n",
              "</style>\n",
              "<table border=\"1\" class=\"dataframe\">\n",
              "  <thead>\n",
              "    <tr style=\"text-align: right;\">\n",
              "      <th></th>\n",
              "      <th>target</th>\n",
              "      <th>best_model</th>\n",
              "      <th>RMSE</th>\n",
              "      <th>MAE</th>\n",
              "      <th>sMAPE%</th>\n",
              "      <th>n_test</th>\n",
              "      <th>artifact</th>\n",
              "      <th>PI80_abs</th>\n",
              "      <th>PI95_abs</th>\n",
              "      <th>test_year</th>\n",
              "      <th>val_year</th>\n",
              "    </tr>\n",
              "  </thead>\n",
              "  <tbody>\n",
              "    <tr>\n",
              "      <th>0</th>\n",
              "      <td>price</td>\n",
              "      <td>rf</td>\n",
              "      <td>8.499985e-01</td>\n",
              "      <td>8.499985e-01</td>\n",
              "      <td>0.382762</td>\n",
              "      <td>55</td>\n",
              "      <td>models/price_model.joblib</td>\n",
              "      <td>1.005500e+01</td>\n",
              "      <td>1.005500e+01</td>\n",
              "      <td>2020</td>\n",
              "      <td>2019</td>\n",
              "    </tr>\n",
              "    <tr>\n",
              "      <th>1</th>\n",
              "      <td>consumption</td>\n",
              "      <td>rf</td>\n",
              "      <td>5.270065e+06</td>\n",
              "      <td>2.021107e+06</td>\n",
              "      <td>1.547106</td>\n",
              "      <td>55</td>\n",
              "      <td>models/consumption_model.joblib</td>\n",
              "      <td>5.880408e+05</td>\n",
              "      <td>7.660839e+06</td>\n",
              "      <td>2020</td>\n",
              "      <td>2019</td>\n",
              "    </tr>\n",
              "    <tr>\n",
              "      <th>2</th>\n",
              "      <td>profit</td>\n",
              "      <td>rf</td>\n",
              "      <td>1.236076e+09</td>\n",
              "      <td>3.762867e+08</td>\n",
              "      <td>4.983959</td>\n",
              "      <td>55</td>\n",
              "      <td>models/profit_model.joblib</td>\n",
              "      <td>4.105554e+08</td>\n",
              "      <td>2.720336e+09</td>\n",
              "      <td>2020</td>\n",
              "      <td>2019</td>\n",
              "    </tr>\n",
              "  </tbody>\n",
              "</table>\n",
              "</div>"
            ],
            "text/plain": [
              "        target best_model          RMSE           MAE    sMAPE%  n_test  \\\n",
              "0        price         rf  8.499985e-01  8.499985e-01  0.382762      55   \n",
              "1  consumption         rf  5.270065e+06  2.021107e+06  1.547106      55   \n",
              "2       profit         rf  1.236076e+09  3.762867e+08  4.983959      55   \n",
              "\n",
              "                          artifact      PI80_abs      PI95_abs  test_year  \\\n",
              "0        models/price_model.joblib  1.005500e+01  1.005500e+01       2020   \n",
              "1  models/consumption_model.joblib  5.880408e+05  7.660839e+06       2020   \n",
              "2       models/profit_model.joblib  4.105554e+08  2.720336e+09       2020   \n",
              "\n",
              "   val_year  \n",
              "0      2019  \n",
              "1      2019  \n",
              "2      2019  "
            ]
          },
          "execution_count": 4,
          "metadata": {},
          "output_type": "execute_result"
        }
      ],
      "source": [
        "# === Entrenamiento por target (parche mínimo) ===\n",
        "results = []\n",
        "preds_all = []\n",
        "\n",
        "for TARGET in TARGETS:\n",
        "    print_header(f'Entrenando target = {TARGET}')\n",
        "\n",
        "    build_xy = try_import_build_xy()\n",
        "    if build_xy is None:\n",
        "        X, y, meta = build_xy_fallback(master_df, TARGET)\n",
        "    else:\n",
        "        X, y, meta = build_xy(master_df.copy(), TARGET)\n",
        "\n",
        "    # LIMPIEZA mínima\n",
        "    mask_ok = y.notna()\n",
        "    X = X.loc[mask_ok].copy(); y = y.loc[mask_ok].copy()\n",
        "    if TARGET in ('price','consumption'):\n",
        "        y = y.clip(lower=0)\n",
        "    X = X.fillna(X.median(numeric_only=True)).fillna(0)\n",
        "\n",
        "    # Split temporal\n",
        "    years = pd.to_numeric(master_df.loc[X.index, 'year'], errors='coerce')\n",
        "    uniq_years = sorted([int(x) for x in years.dropna().unique()])\n",
        "    test_year = uniq_years[-1]\n",
        "    val_year = uniq_years[-2] if len(uniq_years) >= 2 else uniq_years[-1]\n",
        "    mask_test = (master_df.loc[X.index, 'year'] == test_year)\n",
        "    mask_val  = (master_df.loc[X.index, 'year'] == val_year) & (~mask_test)\n",
        "    mask_train = ~(mask_val | mask_test)\n",
        "    if mask_train.sum()==0:\n",
        "        mask_train = ~mask_test; mask_val = (mask_train & False)\n",
        "\n",
        "    X_train, y_train = X.loc[mask_train], y.loc[mask_train]\n",
        "    X_val,   y_val   = X.loc[mask_val],   y.loc[mask_val]\n",
        "    X_test,  y_test  = X.loc[mask_test],  y.loc[mask_test]\n",
        "\n",
        "    # Modelos candidatos\n",
        "    candidates = {\n",
        "        'ridge': Pipeline([('scaler', StandardScaler(with_mean=False)), ('model', Ridge(alpha=1.0, random_state=RANDOM_STATE))]),\n",
        "        'lasso': Pipeline([('scaler', StandardScaler(with_mean=False)), ('model', Lasso(alpha=0.01, random_state=RANDOM_STATE, max_iter=10000))]),\n",
        "        'rf':    Pipeline([('model', RandomForestRegressor(n_estimators=300, random_state=RANDOM_STATE, n_jobs=-1))])\n",
        "    }\n",
        "\n",
        "    best_name, best_model, best_mae = None, None, float('inf')\n",
        "    for name, pipe in candidates.items():\n",
        "        model = positive_wrapper(pipe) if TARGET in ('price','consumption') else pipe\n",
        "        model.fit(X_train, y_train)\n",
        "        y_hat = model.predict(X_val) if len(X_val) else model.predict(X_train)\n",
        "        mae = mean_absolute_error(y_val if len(X_val) else y_train, y_hat)\n",
        "        if mae < best_mae:\n",
        "            best_name, best_model, best_mae = name, model, mae\n",
        "    print(f'Mejor modelo en val: {best_name} (MAE={best_mae:.4f})')\n",
        "\n",
        "    # Métricas y bandas\n",
        "    yhat_val = best_model.predict(X_val) if len(X_val) else best_model.predict(X_train)\n",
        "    base_resid_y = (y_val if len(X_val) else y_train)\n",
        "    resid = np.asarray(base_resid_y) - np.asarray(yhat_val)\n",
        "    PI80_abs = float(np.quantile(np.abs(resid), 0.80)) if len(resid)>0 else 0.0\n",
        "    PI95_abs = float(np.quantile(np.abs(resid), 0.95)) if len(resid)>0 else 0.0\n",
        "\n",
        "    yhat_test = best_model.predict(X_test) if len(X_test) else np.array([])\n",
        "    rmse = float(np.sqrt(mean_squared_error(y_test, yhat_test))) if len(y_test)>0 else np.nan\n",
        "    mae  = float(mean_absolute_error(y_test, yhat_test)) if len(y_test)>0 else np.nan\n",
        "    sm   = float(smape(y_test, yhat_test)) if len(y_test)>0 else np.nan\n",
        "    print(f'Test {TARGET}: RMSE={rmse:.4f} | MAE={mae:.4f} | sMAPE={sm:.3f}% | n_test={int(mask_test.sum())}')\n",
        "\n",
        "    # Guardar artifact “rico”\n",
        "    feat_cols = list(X.columns) if hasattr(X, 'columns') else None\n",
        "    artifact = {\n",
        "        'model': best_model,\n",
        "        'y_col': TARGET,\n",
        "        'feat_cols': feat_cols,\n",
        "        'group_cols': [c for c in ['country','type'] if c in master_df.columns],\n",
        "        'PI80_abs': PI80_abs,\n",
        "        'PI95_abs': PI95_abs,\n",
        "    }\n",
        "    out_path = OUT_MODELS / f'{TARGET}_model.joblib'\n",
        "    dump(artifact, out_path)\n",
        "    print('✅ Artifact guardado ->', out_path)\n",
        "\n",
        "    # Predicciones test con bandas\n",
        "    if len(yhat_test):\n",
        "        base_cols = ['year'] + [c for c in ['country','type'] if c in master_df.columns]\n",
        "        base = master_df.loc[X_test.index, base_cols].copy()\n",
        "        base[f'pred_{TARGET}'] = yhat_test\n",
        "        if PI80_abs>0:\n",
        "            base[f'pred_{TARGET}_lo80'] = yhat_test - PI80_abs\n",
        "            base[f'pred_{TARGET}_hi80'] = yhat_test + PI80_abs\n",
        "        if PI95_abs>0:\n",
        "            base[f'pred_{TARGET}_lo95'] = yhat_test - PI95_abs\n",
        "            base[f'pred_{TARGET}_hi95'] = yhat_test + PI95_abs\n",
        "        preds_all.append(base)\n",
        "\n",
        "    results.append({'target': TARGET, 'best_model': best_name,\n",
        "                    'RMSE': rmse, 'MAE': mae, 'sMAPE%': sm, 'n_test': int(mask_test.sum()),\n",
        "                    'artifact': str(out_path), 'PI80_abs': PI80_abs, 'PI95_abs': PI95_abs,\n",
        "                    'test_year': test_year, 'val_year': val_year})\n",
        "\n",
        "results_df = pd.DataFrame(results)\n",
        "results_df"
      ]
    },
    {
      "cell_type": "code",
      "execution_count": 5,
      "metadata": {},
      "outputs": [
        {
          "name": "stdout",
          "output_type": "stream",
          "text": [
            "📦 Predicciones de test -> predicciones/predicciones_test.csv\n"
          ]
        }
      ],
      "source": [
        "# === Exportar predicciones de test ===\n",
        "if len(preds_all):\n",
        "    df_preds = preds_all[0]\n",
        "    for p in preds_all[1:]:\n",
        "        df_preds = df_preds.merge(p, on=[c for c in ['year','country','type'] if c in df_preds.columns and c in p.columns], how='outer')\n",
        "    out_csv = OUT_PREDS / 'predicciones_test.csv'\n",
        "    df_preds.to_csv(out_csv, index=False)\n",
        "    print('📦 Predicciones de test ->', out_csv)\n",
        "else:\n",
        "    print('No se generaron predicciones de test.')"
      ]
    }
  ],
  "metadata": {
    "kernelspec": {
      "display_name": ".venv",
      "language": "python",
      "name": "python3"
    },
    "language_info": {
      "codemirror_mode": {
        "name": "ipython",
        "version": 3
      },
      "file_extension": ".py",
      "mimetype": "text/x-python",
      "name": "python",
      "nbconvert_exporter": "python",
      "pygments_lexer": "ipython3",
      "version": "3.11.2"
    }
  },
  "nbformat": 4,
  "nbformat_minor": 5
}
